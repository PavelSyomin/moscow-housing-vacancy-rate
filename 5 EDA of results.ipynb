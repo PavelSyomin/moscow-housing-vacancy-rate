{
 "cells": [
  {
   "cell_type": "markdown",
   "id": "1d6dc83f-42e6-4579-8acf-ecf229e72e8f",
   "metadata": {},
   "source": [
    "# Разведочный анализ (EDA) результатов по вакантности\n",
    "\n",
    "Строим некоторые графики, смотрим, что получилось."
   ]
  },
  {
   "cell_type": "code",
   "execution_count": 1,
   "id": "10519cf7-33aa-41a0-a1cc-774a78934c7e",
   "metadata": {},
   "outputs": [],
   "source": [
    "import pandas as pd\n",
    "import seaborn as sns"
   ]
  },
  {
   "cell_type": "code",
   "execution_count": 2,
   "id": "038a29d5-1fd8-40ab-be5f-44697d3ac9c1",
   "metadata": {},
   "outputs": [
    {
     "data": {
      "text/html": [
       "<div>\n",
       "<style scoped>\n",
       "    .dataframe tbody tr th:only-of-type {\n",
       "        vertical-align: middle;\n",
       "    }\n",
       "\n",
       "    .dataframe tbody tr th {\n",
       "        vertical-align: top;\n",
       "    }\n",
       "\n",
       "    .dataframe thead th {\n",
       "        text-align: right;\n",
       "    }\n",
       "</style>\n",
       "<table border=\"1\" class=\"dataframe\">\n",
       "  <thead>\n",
       "    <tr style=\"text-align: right;\">\n",
       "      <th></th>\n",
       "      <th>house_id</th>\n",
       "      <th>houseguid</th>\n",
       "      <th>exploitation_start_year</th>\n",
       "      <th>living_quarters_count</th>\n",
       "      <th>area_residential</th>\n",
       "      <th>address</th>\n",
       "      <th>lat</th>\n",
       "      <th>lon</th>\n",
       "      <th>mun_obr</th>\n",
       "      <th>total_ppl</th>\n",
       "      <th>n_rooms</th>\n",
       "      <th>n_flats</th>\n",
       "      <th>ppf</th>\n",
       "      <th>sheet_name</th>\n",
       "      <th>ppl</th>\n",
       "      <th>expected_total_ppl</th>\n",
       "      <th>house_ppf</th>\n",
       "      <th>vacant_flats_count</th>\n",
       "      <th>vacant_flats_share</th>\n",
       "    </tr>\n",
       "  </thead>\n",
       "  <tbody>\n",
       "    <tr>\n",
       "      <th>0</th>\n",
       "      <td>7847597</td>\n",
       "      <td>8425ff55-ec42-466a-a993-de4e5faaba3b</td>\n",
       "      <td>1957.0</td>\n",
       "      <td>249.0</td>\n",
       "      <td>16649.1</td>\n",
       "      <td>г. Москва, ул. 1812 года, д. 1</td>\n",
       "      <td>55.734999</td>\n",
       "      <td>37.524101</td>\n",
       "      <td>район Дорогомилово</td>\n",
       "      <td>629.0</td>\n",
       "      <td>3</td>\n",
       "      <td>135.725410</td>\n",
       "      <td>4.070183</td>\n",
       "      <td>Дорогомилово</td>\n",
       "      <td>552.427272</td>\n",
       "      <td>1055.679393</td>\n",
       "      <td>4.239676</td>\n",
       "      <td>101.0</td>\n",
       "      <td>0.405622</td>\n",
       "    </tr>\n",
       "    <tr>\n",
       "      <th>1</th>\n",
       "      <td>7847598</td>\n",
       "      <td>a8ad9e0b-e0c1-46a7-981c-4d5a598c76ce</td>\n",
       "      <td>1954.0</td>\n",
       "      <td>325.0</td>\n",
       "      <td>21341.9</td>\n",
       "      <td>г. Москва, ул. 1812 года, д. 2</td>\n",
       "      <td>55.736789</td>\n",
       "      <td>37.524575</td>\n",
       "      <td>район Дорогомилово</td>\n",
       "      <td>835.0</td>\n",
       "      <td>3</td>\n",
       "      <td>179.102167</td>\n",
       "      <td>4.070183</td>\n",
       "      <td>Дорогомилово</td>\n",
       "      <td>728.978618</td>\n",
       "      <td>1425.770383</td>\n",
       "      <td>4.386986</td>\n",
       "      <td>135.0</td>\n",
       "      <td>0.415385</td>\n",
       "    </tr>\n",
       "  </tbody>\n",
       "</table>\n",
       "</div>"
      ],
      "text/plain": [
       "   house_id                             houseguid  exploitation_start_year  \\\n",
       "0   7847597  8425ff55-ec42-466a-a993-de4e5faaba3b                   1957.0   \n",
       "1   7847598  a8ad9e0b-e0c1-46a7-981c-4d5a598c76ce                   1954.0   \n",
       "\n",
       "   living_quarters_count  area_residential                         address  \\\n",
       "0                  249.0           16649.1  г. Москва, ул. 1812 года, д. 1   \n",
       "1                  325.0           21341.9  г. Москва, ул. 1812 года, д. 2   \n",
       "\n",
       "         lat        lon             mun_obr  total_ppl  n_rooms     n_flats  \\\n",
       "0  55.734999  37.524101  район Дорогомилово      629.0        3  135.725410   \n",
       "1  55.736789  37.524575  район Дорогомилово      835.0        3  179.102167   \n",
       "\n",
       "        ppf    sheet_name         ppl  expected_total_ppl  house_ppf  \\\n",
       "0  4.070183  Дорогомилово  552.427272         1055.679393   4.239676   \n",
       "1  4.070183  Дорогомилово  728.978618         1425.770383   4.386986   \n",
       "\n",
       "   vacant_flats_count  vacant_flats_share  \n",
       "0               101.0            0.405622  \n",
       "1               135.0            0.415385  "
      ]
     },
     "execution_count": 2,
     "metadata": {},
     "output_type": "execute_result"
    }
   ],
   "source": [
    "vacant = pd.read_csv(\"data/vacant_v2.csv\")\n",
    "vacant.head(2)"
   ]
  },
  {
   "cell_type": "markdown",
   "id": "fb1c09ee-cdd6-4aca-b8f1-3eeb2685365d",
   "metadata": {},
   "source": [
    "# Доля вакантных квартир в зависимости от года ввода в эксплуатацию\n",
    "\n",
    "Построим диаграмму, показывающую медианную долю вакантных квартир в зависимости от года ввода дома в эксплуатацию. Дома, построенные раньше 1900 года, не рассматриваем."
   ]
  },
  {
   "cell_type": "code",
   "execution_count": 9,
   "id": "70b21377-e691-45d7-b0db-fe12f21b595d",
   "metadata": {},
   "outputs": [
    {
     "data": {
      "text/html": [
       "<div>\n",
       "<style scoped>\n",
       "    .dataframe tbody tr th:only-of-type {\n",
       "        vertical-align: middle;\n",
       "    }\n",
       "\n",
       "    .dataframe tbody tr th {\n",
       "        vertical-align: top;\n",
       "    }\n",
       "\n",
       "    .dataframe thead th {\n",
       "        text-align: right;\n",
       "    }\n",
       "</style>\n",
       "<table border=\"1\" class=\"dataframe\">\n",
       "  <thead>\n",
       "    <tr style=\"text-align: right;\">\n",
       "      <th></th>\n",
       "      <th>year</th>\n",
       "      <th>n_houses</th>\n",
       "      <th>median_vacant_flats_share</th>\n",
       "    </tr>\n",
       "  </thead>\n",
       "  <tbody>\n",
       "    <tr>\n",
       "      <th>0</th>\n",
       "      <td>0.0</td>\n",
       "      <td>11</td>\n",
       "      <td>0.265625</td>\n",
       "    </tr>\n",
       "    <tr>\n",
       "      <th>1</th>\n",
       "      <td>1785.0</td>\n",
       "      <td>1</td>\n",
       "      <td>0.585366</td>\n",
       "    </tr>\n",
       "  </tbody>\n",
       "</table>\n",
       "</div>"
      ],
      "text/plain": [
       "     year  n_houses  median_vacant_flats_share\n",
       "0     0.0        11                   0.265625\n",
       "1  1785.0         1                   0.585366"
      ]
     },
     "execution_count": 9,
     "metadata": {},
     "output_type": "execute_result"
    }
   ],
   "source": [
    "vac_share_by_year = vacant.groupby(\"exploitation_start_year\")[\"vacant_flats_share\"].agg([\"size\", \"median\"]).reset_index()\n",
    "vac_share_by_year.columns = [\"year\", \"n_houses\", \"median_vacant_flats_share\"]\n",
    "vac_share_by_year.head(2)"
   ]
  },
  {
   "cell_type": "code",
   "execution_count": 10,
   "id": "f871985d-6e51-4b59-8de7-e2439f57dfc7",
   "metadata": {},
   "outputs": [
    {
     "data": {
      "text/plain": [
       "<AxesSubplot: xlabel='year', ylabel='median_vacant_flats_share'>"
      ]
     },
     "execution_count": 10,
     "metadata": {},
     "output_type": "execute_result"
    },
    {
     "data": {
      "image/png": "[encoded data removed]",
      "text/plain": [
       "<Figure size 640x480 with 1 Axes>"
      ]
     },
     "metadata": {},
     "output_type": "display_data"
    }
   ],
   "source": [
    "sns.lineplot(vac_share_by_year.loc[vac_share_by_year[\"year\"] > 1900, ], x=\"year\", y=\"median_vacant_flats_share\")"
   ]
  },
  {
   "cell_type": "code",
   "execution_count": 12,
   "id": "6c836f93-0259-4717-b776-c82f65e3875a",
   "metadata": {},
   "outputs": [],
   "source": [
    "vac_share_by_year.to_csv(\"data/vacant_by_year.csv\", index=False)"
   ]
  }
 ],
 "metadata": {
  "kernelspec": {
   "display_name": "Python 3 (ipykernel)",
   "language": "python",
   "name": "python3"
  },
  "language_info": {
   "codemirror_mode": {
    "name": "ipython",
    "version": 3
   },
   "file_extension": ".py",
   "mimetype": "text/x-python",
   "name": "python",
   "nbconvert_exporter": "python",
   "pygments_lexer": "ipython3",
   "version": "3.10.12"
  }
 },
 "nbformat": 4,
 "nbformat_minor": 5
}
