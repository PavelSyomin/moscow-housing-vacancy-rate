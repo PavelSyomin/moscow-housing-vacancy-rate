{
 "cells": [
  {
   "cell_type": "code",
   "execution_count": 4,
   "id": "96796903-d4ff-4c04-b10e-b9154fc57fae",
   "metadata": {},
   "outputs": [],
   "source": [
    "from fuzzywuzzy import process\n",
    "import pandas as pd"
   ]
  },
  {
   "cell_type": "code",
   "execution_count": 8,
   "id": "1c176ba9-7c5e-46de-87ef-e1fc18ac7232",
   "metadata": {},
   "outputs": [],
   "source": [
    "liv_cond = pd.read_excel(\"census_results_11_6.xlsx\", sheet_name=None, na_values=[\"-\"])\n",
    "repair_data = pd.read_csv(\"export-kr1_1-77-20240701.zip\", sep=\";\")"
   ]
  },
  {
   "cell_type": "code",
   "execution_count": 10,
   "id": "9d7ecb6d-163b-47fe-9899-4da1c6095d32",
   "metadata": {},
   "outputs": [],
   "source": [
    "mo = repair_data[\"mun_obr\"].unique()"
   ]
  },
  {
   "cell_type": "code",
   "execution_count": 23,
   "id": "81f4dcb5-a21a-48fe-9f93-4b9adc906268",
   "metadata": {},
   "outputs": [
    {
     "name": "stdout",
     "output_type": "stream",
     "text": [
      "Cannot find matching municipality for г. Москва\n",
      "Cannot find matching municipality for Муниципальные образования ВАО\n",
      "Cannot find matching municipality for Муниципальные образования ЗАО\n",
      "Cannot find matching municipality for Муниципальные образования ЗелАО\n",
      "Cannot find matching municipality for Муниципальные образования САО\n",
      "Cannot find matching municipality for Муниципальные образования СВАО\n",
      "Cannot find matching municipality for Муниципальные образования СЗАО\n",
      "Cannot find matching municipality for Муниципальные образования ЦАО\n",
      "Cannot find matching municipality for Муниципальные образования ЮВАО\n",
      "Cannot find matching municipality for Муниципальные образования ЮЗАО\n",
      "Cannot find matching municipality for Муниципальные образования ЮАО\n",
      "Cannot find matching municipality for Муниципальные образования НАО\n",
      "Cannot find matching municipality for Муниципальные образования ТАО\n"
     ]
    }
   ],
   "source": [
    "MO_MAPPING = {\n",
    "    \"Савеловское\": \"Савёловский район\",\n",
    "    \"Нагорное\": \"Нагорный район\",\n",
    "    \"Северное\": \"район Северный\",\n",
    "    \"Восточное\": \"район Восточный\",\n",
    "    \"Хорошево-Мневники\": \"район Хорошёво-Мнёвники\",\n",
    "    \"Бабушкинское\": \"Бабушкинский район\" ,\n",
    "    \"Поселение Троицк\": \"городской округ Троицк\",\n",
    "    \"Поселение Щербинка\": \"городской округ Щербинка\",\n",
    "    \"Хорошевское\": \"Хорошёвский район\",\n",
    "    \"Пресненское\": \"Пресненский район\",\n",
    "    \"Рязанское\": \"Рязанский район\",\n",
    "    \"Измайлово\": \"район Измайлово\"\n",
    "}\n",
    "\n",
    "parts = []\n",
    "for sheet_name, data in liv_cond.items():\n",
    "    mun_obr = MO_MAPPING.get(sheet_name)\n",
    "    if mun_obr is None:\n",
    "        mun_obr = process.extractOne(sheet_name, mo, score_cutoff=70)\n",
    "        if mun_obr is None:\n",
    "            print(f\"Cannot find matching municipality for {sheet_name}\")\n",
    "            continue\n",
    "        else:\n",
    "            mun_obr = mun_obr[0]\n",
    "    \n",
    "    part = data.iloc[[17, 19, 20, 21, 22]].copy()\n",
    "    part.columns = [f\"c{i}\" for i in range(part.shape[1])]\n",
    "    part[\"ppf\"] = (\n",
    "        (\n",
    "            part[\"c3\"] + part[\"c4\"] * 2 + part[\"c5\"] * 3 + part[\"c6\"] * 4 + part[\"c8\"]\n",
    "             + part[\"c10\"] + part[\"c12\"] + part[\"c14\"]\n",
    "        ) / part[\"c1\"]\n",
    "    )        \n",
    "    part[\"mun_obr\"] = mun_obr\n",
    "    part[\"sheet_name\"] = sheet_name\n",
    "    part[\"n_rooms\"] = [-1] + list(range(1, 5))    \n",
    "    parts.append(part[[\"mun_obr\", \"ppf\", \"n_rooms\", \"sheet_name\"]])\n",
    "\n",
    "ppf_by_mo = pd.concat(parts)"
   ]
  },
  {
   "cell_type": "code",
   "execution_count": 24,
   "id": "ed572e18-5646-433d-8b79-5f1660a96364",
   "metadata": {},
   "outputs": [
    {
     "data": {
      "text/html": [
       "<div>\n",
       "<style scoped>\n",
       "    .dataframe tbody tr th:only-of-type {\n",
       "        vertical-align: middle;\n",
       "    }\n",
       "\n",
       "    .dataframe tbody tr th {\n",
       "        vertical-align: top;\n",
       "    }\n",
       "\n",
       "    .dataframe thead th {\n",
       "        text-align: right;\n",
       "    }\n",
       "</style>\n",
       "<table border=\"1\" class=\"dataframe\">\n",
       "  <thead>\n",
       "    <tr style=\"text-align: right;\">\n",
       "      <th></th>\n",
       "      <th>mun_obr</th>\n",
       "      <th>ppf</th>\n",
       "      <th>n_rooms</th>\n",
       "      <th>sheet_name</th>\n",
       "    </tr>\n",
       "  </thead>\n",
       "  <tbody>\n",
       "    <tr>\n",
       "      <th>17</th>\n",
       "      <td>район Богородское</td>\n",
       "      <td>2.621264</td>\n",
       "      <td>-1</td>\n",
       "      <td>Богородское</td>\n",
       "    </tr>\n",
       "    <tr>\n",
       "      <th>19</th>\n",
       "      <td>район Богородское</td>\n",
       "      <td>2.004463</td>\n",
       "      <td>1</td>\n",
       "      <td>Богородское</td>\n",
       "    </tr>\n",
       "    <tr>\n",
       "      <th>20</th>\n",
       "      <td>район Богородское</td>\n",
       "      <td>2.669125</td>\n",
       "      <td>2</td>\n",
       "      <td>Богородское</td>\n",
       "    </tr>\n",
       "    <tr>\n",
       "      <th>21</th>\n",
       "      <td>район Богородское</td>\n",
       "      <td>3.343224</td>\n",
       "      <td>3</td>\n",
       "      <td>Богородское</td>\n",
       "    </tr>\n",
       "    <tr>\n",
       "      <th>22</th>\n",
       "      <td>район Богородское</td>\n",
       "      <td>3.848692</td>\n",
       "      <td>4</td>\n",
       "      <td>Богородское</td>\n",
       "    </tr>\n",
       "    <tr>\n",
       "      <th>17</th>\n",
       "      <td>район Вешняки</td>\n",
       "      <td>2.703723</td>\n",
       "      <td>-1</td>\n",
       "      <td>Вешняки</td>\n",
       "    </tr>\n",
       "    <tr>\n",
       "      <th>19</th>\n",
       "      <td>район Вешняки</td>\n",
       "      <td>2.36266</td>\n",
       "      <td>1</td>\n",
       "      <td>Вешняки</td>\n",
       "    </tr>\n",
       "    <tr>\n",
       "      <th>20</th>\n",
       "      <td>район Вешняки</td>\n",
       "      <td>2.697963</td>\n",
       "      <td>2</td>\n",
       "      <td>Вешняки</td>\n",
       "    </tr>\n",
       "    <tr>\n",
       "      <th>21</th>\n",
       "      <td>район Вешняки</td>\n",
       "      <td>3.351128</td>\n",
       "      <td>3</td>\n",
       "      <td>Вешняки</td>\n",
       "    </tr>\n",
       "    <tr>\n",
       "      <th>22</th>\n",
       "      <td>район Вешняки</td>\n",
       "      <td>4.033898</td>\n",
       "      <td>4</td>\n",
       "      <td>Вешняки</td>\n",
       "    </tr>\n",
       "  </tbody>\n",
       "</table>\n",
       "</div>"
      ],
      "text/plain": [
       "              mun_obr       ppf  n_rooms   sheet_name\n",
       "17  район Богородское  2.621264       -1  Богородское\n",
       "19  район Богородское  2.004463        1  Богородское\n",
       "20  район Богородское  2.669125        2  Богородское\n",
       "21  район Богородское  3.343224        3  Богородское\n",
       "22  район Богородское  3.848692        4  Богородское\n",
       "17      район Вешняки  2.703723       -1      Вешняки\n",
       "19      район Вешняки   2.36266        1      Вешняки\n",
       "20      район Вешняки  2.697963        2      Вешняки\n",
       "21      район Вешняки  3.351128        3      Вешняки\n",
       "22      район Вешняки  4.033898        4      Вешняки"
      ]
     },
     "execution_count": 24,
     "metadata": {},
     "output_type": "execute_result"
    }
   ],
   "source": [
    "ppf_by_mo.head(10)"
   ]
  },
  {
   "cell_type": "code",
   "execution_count": 25,
   "id": "71aa636c-507d-40aa-80ae-9a72d6260733",
   "metadata": {},
   "outputs": [
    {
     "name": "stdout",
     "output_type": "stream",
     "text": [
      "<class 'pandas.core.frame.DataFrame'>\n",
      "Index: 730 entries, 17 to 22\n",
      "Data columns (total 4 columns):\n",
      " #   Column      Non-Null Count  Dtype \n",
      "---  ------      --------------  ----- \n",
      " 0   mun_obr     730 non-null    object\n",
      " 1   ppf         703 non-null    object\n",
      " 2   n_rooms     730 non-null    int64 \n",
      " 3   sheet_name  730 non-null    object\n",
      "dtypes: int64(1), object(3)\n",
      "memory usage: 28.5+ KB\n"
     ]
    }
   ],
   "source": [
    "ppf_by_mo.info()"
   ]
  },
  {
   "cell_type": "code",
   "execution_count": 26,
   "id": "0a479b0f-ef5c-4422-a7e6-ea10b1955297",
   "metadata": {},
   "outputs": [],
   "source": [
    "ppf_by_mo.to_csv(\"ppf_by_mo.csv\", index=False)"
   ]
  },
  {
   "cell_type": "code",
   "execution_count": null,
   "id": "9ac919be-6f6d-4cf8-856c-e81303aa7e18",
   "metadata": {},
   "outputs": [],
   "source": []
  }
 ],
 "metadata": {
  "kernelspec": {
   "display_name": "Python 3 (ipykernel)",
   "language": "python",
   "name": "python3"
  },
  "language_info": {
   "codemirror_mode": {
    "name": "ipython",
    "version": 3
   },
   "file_extension": ".py",
   "mimetype": "text/x-python",
   "name": "python",
   "nbconvert_exporter": "python",
   "pygments_lexer": "ipython3",
   "version": "3.10.12"
  }
 },
 "nbformat": 4,
 "nbformat_minor": 5
}
