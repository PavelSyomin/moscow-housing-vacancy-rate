{
 "cells": [
  {
   "cell_type": "markdown",
   "id": "5994b722-9097-424e-ac1c-87ffbe263b38",
   "metadata": {},
   "source": [
    "# Эксперименты с кластеризацией площади квартир\n",
    "\n",
    "На двух домах с несколькими методами. Для воспроизведения методики не нужны, но оставил их здесь, чтобы можно было посмотреть."
   ]
  },
  {
   "cell_type": "code",
   "execution_count": 9,
   "id": "67d6bbce",
   "metadata": {},
   "outputs": [],
   "source": [
    "from collections import Counter\n",
    "\n",
    "import pandas as pd\n",
    "from sklearn.cluster import AgglomerativeClustering, KMeans, MeanShift\n",
    "\n",
    "pd.set_option(\"display.max_columns\", None)"
   ]
  },
  {
   "cell_type": "code",
   "execution_count": 4,
   "id": "99429f8a",
   "metadata": {},
   "outputs": [],
   "source": [
    "houses = pd.read_csv(\"export-reestrmkd-77-20240701.zip\", sep=\";\", decimal=\",\")\n",
    "ppf_by_mo = pd.read_csv(\"ppf_by_mo.csv\")"
   ]
  },
  {
   "cell_type": "code",
   "execution_count": 7,
   "id": "7e364ccd-38d0-4704-9204-2c2ddc4b05a7",
   "metadata": {},
   "outputs": [
    {
     "data": {
      "text/html": [
       "<div>\n",
       "<style scoped>\n",
       "    .dataframe tbody tr th:only-of-type {\n",
       "        vertical-align: middle;\n",
       "    }\n",
       "\n",
       "    .dataframe tbody tr th {\n",
       "        vertical-align: top;\n",
       "    }\n",
       "\n",
       "    .dataframe thead th {\n",
       "        text-align: right;\n",
       "    }\n",
       "</style>\n",
       "<table border=\"1\" class=\"dataframe\">\n",
       "  <thead>\n",
       "    <tr style=\"text-align: right;\">\n",
       "      <th></th>\n",
       "      <th>id</th>\n",
       "      <th>region_id</th>\n",
       "      <th>area_id</th>\n",
       "      <th>city_id</th>\n",
       "      <th>street_id</th>\n",
       "      <th>shortname_region</th>\n",
       "      <th>formalname_region</th>\n",
       "      <th>shortname_area</th>\n",
       "      <th>formalname_area</th>\n",
       "      <th>shortname_city</th>\n",
       "      <th>formalname_city</th>\n",
       "      <th>shortname_street</th>\n",
       "      <th>formalname_street</th>\n",
       "      <th>house_number</th>\n",
       "      <th>building</th>\n",
       "      <th>block</th>\n",
       "      <th>letter</th>\n",
       "      <th>address</th>\n",
       "      <th>houseguid</th>\n",
       "      <th>management_organization_id</th>\n",
       "      <th>built_year</th>\n",
       "      <th>exploitation_start_year</th>\n",
       "      <th>project_type</th>\n",
       "      <th>house_type</th>\n",
       "      <th>is_alarm</th>\n",
       "      <th>method_of_forming_overhaul_fund</th>\n",
       "      <th>floor_count_max</th>\n",
       "      <th>floor_count_min</th>\n",
       "      <th>entrance_count</th>\n",
       "      <th>elevators_count</th>\n",
       "      <th>energy_efficiency</th>\n",
       "      <th>quarters_count</th>\n",
       "      <th>living_quarters_count</th>\n",
       "      <th>unliving_quarters_count</th>\n",
       "      <th>area_total</th>\n",
       "      <th>area_residential</th>\n",
       "      <th>area_non_residential</th>\n",
       "      <th>area_common_property</th>\n",
       "      <th>area_land</th>\n",
       "      <th>parking_square</th>\n",
       "      <th>playground</th>\n",
       "      <th>sportsground</th>\n",
       "      <th>other_beautification</th>\n",
       "      <th>foundation_type</th>\n",
       "      <th>floor_type</th>\n",
       "      <th>wall_material</th>\n",
       "      <th>basement_area</th>\n",
       "      <th>chute_type</th>\n",
       "      <th>chute_count</th>\n",
       "      <th>electrical_type</th>\n",
       "      <th>electrical_entries_count</th>\n",
       "      <th>heating_type</th>\n",
       "      <th>hot_water_type</th>\n",
       "      <th>cold_water_type</th>\n",
       "      <th>sewerage_type</th>\n",
       "      <th>sewerage_cesspools_volume</th>\n",
       "      <th>gas_type</th>\n",
       "      <th>ventilation_type</th>\n",
       "      <th>firefighting_type</th>\n",
       "      <th>drainage_type</th>\n",
       "    </tr>\n",
       "  </thead>\n",
       "  <tbody>\n",
       "    <tr>\n",
       "      <th>18678</th>\n",
       "      <td>7553721</td>\n",
       "      <td>0c5b2444-70a0-4932-980c-b4dc0d3f02b5</td>\n",
       "      <td>NaN</td>\n",
       "      <td>NaN</td>\n",
       "      <td>bd016634-0ea9-49aa-8d09-ec960ee3058f</td>\n",
       "      <td>г</td>\n",
       "      <td>Москва</td>\n",
       "      <td>NaN</td>\n",
       "      <td>NaN</td>\n",
       "      <td>NaN</td>\n",
       "      <td>NaN</td>\n",
       "      <td>ул</td>\n",
       "      <td>Наметкина</td>\n",
       "      <td>11</td>\n",
       "      <td>NaN</td>\n",
       "      <td>NaN</td>\n",
       "      <td>NaN</td>\n",
       "      <td>г. Москва, ул. Наметкина, д. 11</td>\n",
       "      <td>4b3ac544-fa8d-4ef6-8a2b-5241ac7b9d33</td>\n",
       "      <td>8929992.0</td>\n",
       "      <td>1996.0</td>\n",
       "      <td>1996.0</td>\n",
       "      <td>П-44</td>\n",
       "      <td>Многоквартирный дом</td>\n",
       "      <td>Нет</td>\n",
       "      <td>На счете регионального оператора</td>\n",
       "      <td>17.0</td>\n",
       "      <td>17.0</td>\n",
       "      <td>2.0</td>\n",
       "      <td>4.0</td>\n",
       "      <td>Не присвоен</td>\n",
       "      <td>130</td>\n",
       "      <td>128.0</td>\n",
       "      <td>2.0</td>\n",
       "      <td>9427.6</td>\n",
       "      <td>7032.9</td>\n",
       "      <td>2394.7</td>\n",
       "      <td>1275.8</td>\n",
       "      <td>0.0</td>\n",
       "      <td>0.0</td>\n",
       "      <td>500</td>\n",
       "      <td>500</td>\n",
       "      <td>Нет</td>\n",
       "      <td>Ленточный</td>\n",
       "      <td>Железобетонные</td>\n",
       "      <td>Железобетон</td>\n",
       "      <td>634.5</td>\n",
       "      <td>На лестничной клетке</td>\n",
       "      <td>2.0</td>\n",
       "      <td>Центральное</td>\n",
       "      <td>2.0</td>\n",
       "      <td>Центральное</td>\n",
       "      <td>Закрытая с приготовлением горячей воды на ЦТП</td>\n",
       "      <td>Центральное</td>\n",
       "      <td>Центральное</td>\n",
       "      <td>0.0</td>\n",
       "      <td>Отсутствует</td>\n",
       "      <td>Приточно-вытяжная вентиляция</td>\n",
       "      <td>Автоматическая</td>\n",
       "      <td>Внутренние водостоки</td>\n",
       "    </tr>\n",
       "  </tbody>\n",
       "</table>\n",
       "</div>"
      ],
      "text/plain": [
       "            id                             region_id area_id city_id  \\\n",
       "18678  7553721  0c5b2444-70a0-4932-980c-b4dc0d3f02b5     NaN     NaN   \n",
       "\n",
       "                                  street_id shortname_region  \\\n",
       "18678  bd016634-0ea9-49aa-8d09-ec960ee3058f                г   \n",
       "\n",
       "      formalname_region shortname_area formalname_area shortname_city  \\\n",
       "18678            Москва            NaN             NaN            NaN   \n",
       "\n",
       "      formalname_city shortname_street formalname_street house_number  \\\n",
       "18678             NaN               ул         Наметкина           11   \n",
       "\n",
       "      building block letter                          address  \\\n",
       "18678      NaN   NaN    NaN  г. Москва, ул. Наметкина, д. 11   \n",
       "\n",
       "                                  houseguid  management_organization_id  \\\n",
       "18678  4b3ac544-fa8d-4ef6-8a2b-5241ac7b9d33                   8929992.0   \n",
       "\n",
       "       built_year  exploitation_start_year project_type           house_type  \\\n",
       "18678      1996.0                   1996.0         П-44  Многоквартирный дом   \n",
       "\n",
       "      is_alarm   method_of_forming_overhaul_fund  floor_count_max  \\\n",
       "18678      Нет  На счете регионального оператора             17.0   \n",
       "\n",
       "       floor_count_min  entrance_count  elevators_count energy_efficiency  \\\n",
       "18678             17.0             2.0              4.0       Не присвоен   \n",
       "\n",
       "       quarters_count  living_quarters_count  unliving_quarters_count  \\\n",
       "18678             130                  128.0                      2.0   \n",
       "\n",
       "       area_total  area_residential  area_non_residential  \\\n",
       "18678      9427.6            7032.9                2394.7   \n",
       "\n",
       "       area_common_property  area_land  parking_square  playground  \\\n",
       "18678                1275.8        0.0             0.0         500   \n",
       "\n",
       "       sportsground other_beautification foundation_type      floor_type  \\\n",
       "18678           500                  Нет       Ленточный  Железобетонные   \n",
       "\n",
       "      wall_material  basement_area            chute_type  chute_count  \\\n",
       "18678   Железобетон          634.5  На лестничной клетке          2.0   \n",
       "\n",
       "      electrical_type  electrical_entries_count heating_type  \\\n",
       "18678     Центральное                       2.0  Центральное   \n",
       "\n",
       "                                      hot_water_type cold_water_type  \\\n",
       "18678  Закрытая с приготовлением горячей воды на ЦТП     Центральное   \n",
       "\n",
       "      sewerage_type  sewerage_cesspools_volume     gas_type  \\\n",
       "18678   Центральное                        0.0  Отсутствует   \n",
       "\n",
       "                   ventilation_type firefighting_type         drainage_type  \n",
       "18678  Приточно-вытяжная вентиляция    Автоматическая  Внутренние водостоки  "
      ]
     },
     "execution_count": 7,
     "metadata": {},
     "output_type": "execute_result"
    }
   ],
   "source": [
    "houses.loc[houses[\"id\"] == 7553721]"
   ]
  },
  {
   "cell_type": "code",
   "execution_count": 3,
   "id": "10cf3ce2",
   "metadata": {},
   "outputs": [],
   "source": [
    "cher_11 = pd.read_csv(\"cher_11.csv\", header=None)"
   ]
  },
  {
   "cell_type": "code",
   "execution_count": 4,
   "id": "db74b4b6",
   "metadata": {},
   "outputs": [
    {
     "data": {
      "text/plain": [
       "0      72.6\n",
       "1      38.0\n",
       "2      50.6\n",
       "3      58.5\n",
       "4      72.7\n",
       "       ... \n",
       "123    56.4\n",
       "124    38.1\n",
       "125    50.5\n",
       "126    56.3\n",
       "127    37.9\n",
       "Name: 0, Length: 128, dtype: float64"
      ]
     },
     "execution_count": 4,
     "metadata": {},
     "output_type": "execute_result"
    }
   ],
   "source": [
    "cher_11.iloc[:, 0]"
   ]
  },
  {
   "cell_type": "code",
   "execution_count": 46,
   "id": "68d5de8c",
   "metadata": {},
   "outputs": [
    {
     "data": {
      "text/plain": [
       "array([1, 2, 0, 0, 1, 2, 0, 0, 1, 2, 2, 2, 2, 2, 2, 2, 2, 2, 2, 2, 2, 2,\n",
       "       2, 0, 0, 1, 0, 0, 1, 0, 0, 1, 0, 0, 1, 0, 0, 1, 0, 0, 1, 0, 0, 1,\n",
       "       0, 0, 1, 0, 0, 1, 0, 0, 1, 0, 0, 1, 0, 0, 1, 0, 0, 1, 0, 0, 1, 0,\n",
       "       0, 1, 1, 1, 1, 1, 1, 1, 1, 1, 1, 1, 1, 1, 1, 1, 2, 0, 0, 2, 0, 0,\n",
       "       2, 0, 0, 2, 0, 0, 2, 0, 0, 2, 0, 0, 2, 0, 0, 2, 0, 0, 2, 0, 0, 2,\n",
       "       0, 0, 2, 0, 0, 2, 0, 0, 2, 0, 0, 2, 0, 0, 2, 0, 0, 2], dtype=int32)"
      ]
     },
     "execution_count": 46,
     "metadata": {},
     "output_type": "execute_result"
    }
   ],
   "source": [
    "KMeans(n_clusters=3).fit(cher_11.iloc[:, [0]]).labels_"
   ]
  },
  {
   "cell_type": "code",
   "execution_count": 47,
   "id": "2e909e72",
   "metadata": {},
   "outputs": [
    {
     "data": {
      "text/plain": [
       "Counter({2: 32, 1: 32, 0: 64})"
      ]
     },
     "execution_count": 47,
     "metadata": {},
     "output_type": "execute_result"
    }
   ],
   "source": [
    "Counter(KMeans(n_clusters=3).fit(cher_11.iloc[:, [0]]).labels_)"
   ]
  },
  {
   "cell_type": "code",
   "execution_count": 49,
   "id": "c1d7bc3f",
   "metadata": {},
   "outputs": [
    {
     "data": {
      "text/html": [
       "<div>\n",
       "<style scoped>\n",
       "    .dataframe tbody tr th:only-of-type {\n",
       "        vertical-align: middle;\n",
       "    }\n",
       "\n",
       "    .dataframe tbody tr th {\n",
       "        vertical-align: top;\n",
       "    }\n",
       "\n",
       "    .dataframe thead th {\n",
       "        text-align: right;\n",
       "    }\n",
       "</style>\n",
       "<table border=\"1\" class=\"dataframe\">\n",
       "  <thead>\n",
       "    <tr style=\"text-align: right;\">\n",
       "      <th></th>\n",
       "      <th>mun_obr</th>\n",
       "      <th>ppf</th>\n",
       "      <th>n_flats</th>\n",
       "      <th>sheet_name</th>\n",
       "    </tr>\n",
       "  </thead>\n",
       "  <tbody>\n",
       "    <tr>\n",
       "      <th>17</th>\n",
       "      <td>Черёмушки</td>\n",
       "      <td>2.834779</td>\n",
       "      <td>-1</td>\n",
       "      <td>Черемушки</td>\n",
       "    </tr>\n",
       "    <tr>\n",
       "      <th>19</th>\n",
       "      <td>Черёмушки</td>\n",
       "      <td>2.020848</td>\n",
       "      <td>1</td>\n",
       "      <td>Черемушки</td>\n",
       "    </tr>\n",
       "    <tr>\n",
       "      <th>20</th>\n",
       "      <td>Черёмушки</td>\n",
       "      <td>2.76394</td>\n",
       "      <td>2</td>\n",
       "      <td>Черемушки</td>\n",
       "    </tr>\n",
       "    <tr>\n",
       "      <th>21</th>\n",
       "      <td>Черёмушки</td>\n",
       "      <td>3.762614</td>\n",
       "      <td>3</td>\n",
       "      <td>Черемушки</td>\n",
       "    </tr>\n",
       "    <tr>\n",
       "      <th>22</th>\n",
       "      <td>Черёмушки</td>\n",
       "      <td>5.198526</td>\n",
       "      <td>4</td>\n",
       "      <td>Черемушки</td>\n",
       "    </tr>\n",
       "  </tbody>\n",
       "</table>\n",
       "</div>"
      ],
      "text/plain": [
       "      mun_obr       ppf  n_flats sheet_name\n",
       "17  Черёмушки  2.834779       -1  Черемушки\n",
       "19  Черёмушки  2.020848        1  Черемушки\n",
       "20  Черёмушки   2.76394        2  Черемушки\n",
       "21  Черёмушки  3.762614        3  Черемушки\n",
       "22  Черёмушки  5.198526        4  Черемушки"
      ]
     },
     "execution_count": 49,
     "metadata": {},
     "output_type": "execute_result"
    }
   ],
   "source": [
    "ppf_by_mo.loc[ppf_by_mo[\"mun_obr\"] == \"Черёмушки\"]"
   ]
  },
  {
   "cell_type": "code",
   "execution_count": 50,
   "id": "a85f00f2",
   "metadata": {},
   "outputs": [
    {
     "data": {
      "text/plain": [
       "361.962944"
      ]
     },
     "execution_count": 50,
     "metadata": {},
     "output_type": "execute_result"
    }
   ],
   "source": [
    "2.020848 * 32 + 2.76394 * 64 + 3.762614 * 32"
   ]
  },
  {
   "cell_type": "code",
   "execution_count": 52,
   "id": "c1391636",
   "metadata": {},
   "outputs": [
    {
     "data": {
      "text/plain": [
       "2.8278355"
      ]
     },
     "execution_count": 52,
     "metadata": {},
     "output_type": "execute_result"
    }
   ],
   "source": [
    "(2.020848 * 32 + 2.76394 * 64 + 3.762614 * 32) / 128"
   ]
  },
  {
   "cell_type": "code",
   "execution_count": 53,
   "id": "212e332b",
   "metadata": {},
   "outputs": [
    {
     "data": {
      "text/plain": [
       "25.46116985942075"
      ]
     },
     "execution_count": 53,
     "metadata": {},
     "output_type": "execute_result"
    }
   ],
   "source": [
    "(361-289) / 2.8278355"
   ]
  },
  {
   "cell_type": "code",
   "execution_count": 27,
   "id": "88636e5f",
   "metadata": {},
   "outputs": [
    {
     "data": {
      "text/html": [
       "<style>#sk-container-id-8 {color: black;background-color: white;}#sk-container-id-8 pre{padding: 0;}#sk-container-id-8 div.sk-toggleable {background-color: white;}#sk-container-id-8 label.sk-toggleable__label {cursor: pointer;display: block;width: 100%;margin-bottom: 0;padding: 0.3em;box-sizing: border-box;text-align: center;}#sk-container-id-8 label.sk-toggleable__label-arrow:before {content: \"▸\";float: left;margin-right: 0.25em;color: #696969;}#sk-container-id-8 label.sk-toggleable__label-arrow:hover:before {color: black;}#sk-container-id-8 div.sk-estimator:hover label.sk-toggleable__label-arrow:before {color: black;}#sk-container-id-8 div.sk-toggleable__content {max-height: 0;max-width: 0;overflow: hidden;text-align: left;background-color: #f0f8ff;}#sk-container-id-8 div.sk-toggleable__content pre {margin: 0.2em;color: black;border-radius: 0.25em;background-color: #f0f8ff;}#sk-container-id-8 input.sk-toggleable__control:checked~div.sk-toggleable__content {max-height: 200px;max-width: 100%;overflow: auto;}#sk-container-id-8 input.sk-toggleable__control:checked~label.sk-toggleable__label-arrow:before {content: \"▾\";}#sk-container-id-8 div.sk-estimator input.sk-toggleable__control:checked~label.sk-toggleable__label {background-color: #d4ebff;}#sk-container-id-8 div.sk-label input.sk-toggleable__control:checked~label.sk-toggleable__label {background-color: #d4ebff;}#sk-container-id-8 input.sk-hidden--visually {border: 0;clip: rect(1px 1px 1px 1px);clip: rect(1px, 1px, 1px, 1px);height: 1px;margin: -1px;overflow: hidden;padding: 0;position: absolute;width: 1px;}#sk-container-id-8 div.sk-estimator {font-family: monospace;background-color: #f0f8ff;border: 1px dotted black;border-radius: 0.25em;box-sizing: border-box;margin-bottom: 0.5em;}#sk-container-id-8 div.sk-estimator:hover {background-color: #d4ebff;}#sk-container-id-8 div.sk-parallel-item::after {content: \"\";width: 100%;border-bottom: 1px solid gray;flex-grow: 1;}#sk-container-id-8 div.sk-label:hover label.sk-toggleable__label {background-color: #d4ebff;}#sk-container-id-8 div.sk-serial::before {content: \"\";position: absolute;border-left: 1px solid gray;box-sizing: border-box;top: 0;bottom: 0;left: 50%;z-index: 0;}#sk-container-id-8 div.sk-serial {display: flex;flex-direction: column;align-items: center;background-color: white;padding-right: 0.2em;padding-left: 0.2em;position: relative;}#sk-container-id-8 div.sk-item {position: relative;z-index: 1;}#sk-container-id-8 div.sk-parallel {display: flex;align-items: stretch;justify-content: center;background-color: white;position: relative;}#sk-container-id-8 div.sk-item::before, #sk-container-id-8 div.sk-parallel-item::before {content: \"\";position: absolute;border-left: 1px solid gray;box-sizing: border-box;top: 0;bottom: 0;left: 50%;z-index: -1;}#sk-container-id-8 div.sk-parallel-item {display: flex;flex-direction: column;z-index: 1;position: relative;background-color: white;}#sk-container-id-8 div.sk-parallel-item:first-child::after {align-self: flex-end;width: 50%;}#sk-container-id-8 div.sk-parallel-item:last-child::after {align-self: flex-start;width: 50%;}#sk-container-id-8 div.sk-parallel-item:only-child::after {width: 0;}#sk-container-id-8 div.sk-dashed-wrapped {border: 1px dashed gray;margin: 0 0.4em 0.5em 0.4em;box-sizing: border-box;padding-bottom: 0.4em;background-color: white;}#sk-container-id-8 div.sk-label label {font-family: monospace;font-weight: bold;display: inline-block;line-height: 1.2em;}#sk-container-id-8 div.sk-label-container {text-align: center;}#sk-container-id-8 div.sk-container {/* jupyter's `normalize.less` sets `[hidden] { display: none; }` but bootstrap.min.css set `[hidden] { display: none !important; }` so we also need the `!important` here to be able to override the default hidden behavior on the sphinx rendered scikit-learn.org. See: https://github.com/scikit-learn/scikit-learn/issues/21755 */display: inline-block !important;position: relative;}#sk-container-id-8 div.sk-text-repr-fallback {display: none;}</style><div id=\"sk-container-id-8\" class=\"sk-top-container\"><div class=\"sk-text-repr-fallback\"><pre>AgglomerativeClustering(distance_threshold=5, linkage=&#x27;average&#x27;,\n",
       "                        n_clusters=None)</pre><b>In a Jupyter environment, please rerun this cell to show the HTML representation or trust the notebook. <br />On GitHub, the HTML representation is unable to render, please try loading this page with nbviewer.org.</b></div><div class=\"sk-container\" hidden><div class=\"sk-item\"><div class=\"sk-estimator sk-toggleable\"><input class=\"sk-toggleable__control sk-hidden--visually\" id=\"sk-estimator-id-8\" type=\"checkbox\" checked><label for=\"sk-estimator-id-8\" class=\"sk-toggleable__label sk-toggleable__label-arrow\">AgglomerativeClustering</label><div class=\"sk-toggleable__content\"><pre>AgglomerativeClustering(distance_threshold=5, linkage=&#x27;average&#x27;,\n",
       "                        n_clusters=None)</pre></div></div></div></div></div>"
      ],
      "text/plain": [
       "AgglomerativeClustering(distance_threshold=5, linkage='average',\n",
       "                        n_clusters=None)"
      ]
     },
     "execution_count": 27,
     "metadata": {},
     "output_type": "execute_result"
    }
   ],
   "source": [
    "agc = AgglomerativeClustering(n_clusters=None, distance_threshold=5, linkage=\"average\")\n",
    "agc.fit(cher_11.iloc[:, [0]])"
   ]
  },
  {
   "cell_type": "code",
   "execution_count": 28,
   "id": "6d3a98ea",
   "metadata": {},
   "outputs": [
    {
     "data": {
      "text/plain": [
       "4"
      ]
     },
     "execution_count": 28,
     "metadata": {},
     "output_type": "execute_result"
    }
   ],
   "source": [
    "agc.n_clusters_"
   ]
  },
  {
   "cell_type": "code",
   "execution_count": 29,
   "id": "69edf87e",
   "metadata": {},
   "outputs": [
    {
     "data": {
      "text/plain": [
       "array([0, 2, 3, 1, 0, 2, 3, 1, 0, 2, 2, 2, 2, 2, 2, 2, 2, 2, 2, 2, 2, 2,\n",
       "       2, 3, 1, 0, 3, 1, 0, 3, 1, 0, 3, 1, 0, 3, 1, 0, 3, 1, 0, 3, 1, 0,\n",
       "       3, 1, 0, 3, 1, 0, 3, 1, 0, 3, 1, 0, 3, 1, 0, 3, 1, 0, 3, 1, 0, 3,\n",
       "       1, 0, 0, 0, 0, 0, 0, 0, 0, 0, 0, 0, 0, 0, 0, 0, 2, 3, 1, 2, 3, 1,\n",
       "       2, 3, 1, 2, 3, 1, 2, 3, 1, 2, 3, 1, 2, 3, 1, 2, 3, 1, 2, 3, 1, 2,\n",
       "       3, 1, 2, 3, 1, 2, 3, 1, 2, 3, 1, 2, 3, 1, 2, 3, 1, 2])"
      ]
     },
     "execution_count": 29,
     "metadata": {},
     "output_type": "execute_result"
    }
   ],
   "source": [
    "agc.labels_"
   ]
  },
  {
   "cell_type": "code",
   "execution_count": 33,
   "id": "4a656345",
   "metadata": {},
   "outputs": [
    {
     "data": {
      "text/plain": [
       "Counter({1: 32, 2: 32, 0: 64})"
      ]
     },
     "execution_count": 33,
     "metadata": {},
     "output_type": "execute_result"
    }
   ],
   "source": [
    "mc = MeanShift()\n",
    "mc.fit(cher_11.iloc[:, [0]])\n",
    "Counter(mc.labels_)"
   ]
  },
  {
   "cell_type": "code",
   "execution_count": 16,
   "id": "27c741db",
   "metadata": {},
   "outputs": [
    {
     "data": {
      "text/plain": [
       "array([[<AxesSubplot: title={'center': '0'}>]], dtype=object)"
      ]
     },
     "execution_count": 16,
     "metadata": {},
     "output_type": "execute_result"
    },
    {
     "data": {
      "image/png": "[encoded data removed]",
      "text/plain": [
       "<Figure size 640x480 with 1 Axes>"
      ]
     },
     "metadata": {},
     "output_type": "display_data"
    }
   ],
   "source": [
    "cher_11.iloc[:, [0]].hist()"
   ]
  },
  {
   "cell_type": "code",
   "execution_count": 8,
   "id": "89c2d741-3b46-4d34-8ef6-ceb0b9524dc9",
   "metadata": {},
   "outputs": [
    {
     "data": {
      "text/html": [
       "<div>\n",
       "<style scoped>\n",
       "    .dataframe tbody tr th:only-of-type {\n",
       "        vertical-align: middle;\n",
       "    }\n",
       "\n",
       "    .dataframe tbody tr th {\n",
       "        vertical-align: top;\n",
       "    }\n",
       "\n",
       "    .dataframe thead th {\n",
       "        text-align: right;\n",
       "    }\n",
       "</style>\n",
       "<table border=\"1\" class=\"dataframe\">\n",
       "  <thead>\n",
       "    <tr style=\"text-align: right;\">\n",
       "      <th></th>\n",
       "      <th>id</th>\n",
       "      <th>region_id</th>\n",
       "      <th>area_id</th>\n",
       "      <th>city_id</th>\n",
       "      <th>street_id</th>\n",
       "      <th>shortname_region</th>\n",
       "      <th>formalname_region</th>\n",
       "      <th>shortname_area</th>\n",
       "      <th>formalname_area</th>\n",
       "      <th>shortname_city</th>\n",
       "      <th>formalname_city</th>\n",
       "      <th>shortname_street</th>\n",
       "      <th>formalname_street</th>\n",
       "      <th>house_number</th>\n",
       "      <th>building</th>\n",
       "      <th>block</th>\n",
       "      <th>letter</th>\n",
       "      <th>address</th>\n",
       "      <th>houseguid</th>\n",
       "      <th>management_organization_id</th>\n",
       "      <th>built_year</th>\n",
       "      <th>exploitation_start_year</th>\n",
       "      <th>project_type</th>\n",
       "      <th>house_type</th>\n",
       "      <th>is_alarm</th>\n",
       "      <th>method_of_forming_overhaul_fund</th>\n",
       "      <th>floor_count_max</th>\n",
       "      <th>floor_count_min</th>\n",
       "      <th>entrance_count</th>\n",
       "      <th>elevators_count</th>\n",
       "      <th>energy_efficiency</th>\n",
       "      <th>quarters_count</th>\n",
       "      <th>living_quarters_count</th>\n",
       "      <th>unliving_quarters_count</th>\n",
       "      <th>area_total</th>\n",
       "      <th>area_residential</th>\n",
       "      <th>area_non_residential</th>\n",
       "      <th>area_common_property</th>\n",
       "      <th>area_land</th>\n",
       "      <th>parking_square</th>\n",
       "      <th>playground</th>\n",
       "      <th>sportsground</th>\n",
       "      <th>other_beautification</th>\n",
       "      <th>foundation_type</th>\n",
       "      <th>floor_type</th>\n",
       "      <th>wall_material</th>\n",
       "      <th>basement_area</th>\n",
       "      <th>chute_type</th>\n",
       "      <th>chute_count</th>\n",
       "      <th>electrical_type</th>\n",
       "      <th>electrical_entries_count</th>\n",
       "      <th>heating_type</th>\n",
       "      <th>hot_water_type</th>\n",
       "      <th>cold_water_type</th>\n",
       "      <th>sewerage_type</th>\n",
       "      <th>sewerage_cesspools_volume</th>\n",
       "      <th>gas_type</th>\n",
       "      <th>ventilation_type</th>\n",
       "      <th>firefighting_type</th>\n",
       "      <th>drainage_type</th>\n",
       "    </tr>\n",
       "  </thead>\n",
       "  <tbody>\n",
       "    <tr>\n",
       "      <th>530</th>\n",
       "      <td>8038815</td>\n",
       "      <td>0c5b2444-70a0-4932-980c-b4dc0d3f02b5</td>\n",
       "      <td>NaN</td>\n",
       "      <td>NaN</td>\n",
       "      <td>d1df4d35-7aff-49d8-8d66-bd20f3ddb7b5</td>\n",
       "      <td>г</td>\n",
       "      <td>Москва</td>\n",
       "      <td>NaN</td>\n",
       "      <td>NaN</td>\n",
       "      <td>NaN</td>\n",
       "      <td>NaN</td>\n",
       "      <td>ул</td>\n",
       "      <td>Азовская</td>\n",
       "      <td>23</td>\n",
       "      <td>NaN</td>\n",
       "      <td>NaN</td>\n",
       "      <td>NaN</td>\n",
       "      <td>г. Москва, ул. Азовская, д. 23</td>\n",
       "      <td>b11b1a36-887c-4609-b2e2-40591f8f1427</td>\n",
       "      <td>7553366.0</td>\n",
       "      <td>1968.0</td>\n",
       "      <td>1968.0</td>\n",
       "      <td>индивидуальный проект</td>\n",
       "      <td>Многоквартирный дом</td>\n",
       "      <td>Нет</td>\n",
       "      <td>На счете регионального оператора</td>\n",
       "      <td>16.0</td>\n",
       "      <td>16.0</td>\n",
       "      <td>1.0</td>\n",
       "      <td>2.0</td>\n",
       "      <td>C</td>\n",
       "      <td>110</td>\n",
       "      <td>107.0</td>\n",
       "      <td>3.0</td>\n",
       "      <td>6177.5</td>\n",
       "      <td>5887.5</td>\n",
       "      <td>290.0</td>\n",
       "      <td>949.0</td>\n",
       "      <td>0.0</td>\n",
       "      <td>0.0</td>\n",
       "      <td>500</td>\n",
       "      <td>500</td>\n",
       "      <td>Гостевая парковка</td>\n",
       "      <td>Бетонные столбы</td>\n",
       "      <td>Железобетонные</td>\n",
       "      <td>Железобетон</td>\n",
       "      <td>527.9</td>\n",
       "      <td>На лестничной клетке</td>\n",
       "      <td>1.0</td>\n",
       "      <td>Центральное</td>\n",
       "      <td>1.0</td>\n",
       "      <td>Центральное</td>\n",
       "      <td>Открытая с отбором сетевой воды на горячее вод...</td>\n",
       "      <td>Центральное</td>\n",
       "      <td>Центральное</td>\n",
       "      <td>0.0</td>\n",
       "      <td>Центральное</td>\n",
       "      <td>Приточно-вытяжная вентиляция</td>\n",
       "      <td>Пожарные гидранты</td>\n",
       "      <td>Внутренние водостоки</td>\n",
       "    </tr>\n",
       "  </tbody>\n",
       "</table>\n",
       "</div>"
      ],
      "text/plain": [
       "          id                             region_id area_id city_id  \\\n",
       "530  8038815  0c5b2444-70a0-4932-980c-b4dc0d3f02b5     NaN     NaN   \n",
       "\n",
       "                                street_id shortname_region formalname_region  \\\n",
       "530  d1df4d35-7aff-49d8-8d66-bd20f3ddb7b5                г            Москва   \n",
       "\n",
       "    shortname_area formalname_area shortname_city formalname_city  \\\n",
       "530            NaN             NaN            NaN             NaN   \n",
       "\n",
       "    shortname_street formalname_street house_number building block letter  \\\n",
       "530               ул          Азовская           23      NaN   NaN    NaN   \n",
       "\n",
       "                            address                             houseguid  \\\n",
       "530  г. Москва, ул. Азовская, д. 23  b11b1a36-887c-4609-b2e2-40591f8f1427   \n",
       "\n",
       "     management_organization_id  built_year  exploitation_start_year  \\\n",
       "530                   7553366.0      1968.0                   1968.0   \n",
       "\n",
       "              project_type           house_type is_alarm  \\\n",
       "530  индивидуальный проект  Многоквартирный дом      Нет   \n",
       "\n",
       "      method_of_forming_overhaul_fund  floor_count_max  floor_count_min  \\\n",
       "530  На счете регионального оператора             16.0             16.0   \n",
       "\n",
       "     entrance_count  elevators_count energy_efficiency  quarters_count  \\\n",
       "530             1.0              2.0                 C             110   \n",
       "\n",
       "     living_quarters_count  unliving_quarters_count  area_total  \\\n",
       "530                  107.0                      3.0      6177.5   \n",
       "\n",
       "     area_residential  area_non_residential  area_common_property  area_land  \\\n",
       "530            5887.5                 290.0                 949.0        0.0   \n",
       "\n",
       "     parking_square  playground  sportsground other_beautification  \\\n",
       "530             0.0         500           500    Гостевая парковка   \n",
       "\n",
       "     foundation_type      floor_type wall_material  basement_area  \\\n",
       "530  Бетонные столбы  Железобетонные   Железобетон          527.9   \n",
       "\n",
       "               chute_type  chute_count electrical_type  \\\n",
       "530  На лестничной клетке          1.0     Центральное   \n",
       "\n",
       "     electrical_entries_count heating_type  \\\n",
       "530                       1.0  Центральное   \n",
       "\n",
       "                                        hot_water_type cold_water_type  \\\n",
       "530  Открытая с отбором сетевой воды на горячее вод...     Центральное   \n",
       "\n",
       "    sewerage_type  sewerage_cesspools_volume     gas_type  \\\n",
       "530   Центральное                        0.0  Центральное   \n",
       "\n",
       "                 ventilation_type  firefighting_type         drainage_type  \n",
       "530  Приточно-вытяжная вентиляция  Пожарные гидранты  Внутренние водостоки  "
      ]
     },
     "execution_count": 8,
     "metadata": {},
     "output_type": "execute_result"
    }
   ],
   "source": [
    "houses.loc[houses[\"id\"] == 8038815]"
   ]
  },
  {
   "cell_type": "code",
   "execution_count": 35,
   "id": "8249c8f0",
   "metadata": {},
   "outputs": [
    {
     "data": {
      "text/plain": [
       "0      54.2\n",
       "1      71.0\n",
       "2      54.3\n",
       "3      71.2\n",
       "4      53.4\n",
       "       ... \n",
       "102    53.0\n",
       "103    40.5\n",
       "104    40.6\n",
       "105    71.2\n",
       "106    53.5\n",
       "Name: 0, Length: 107, dtype: float64"
      ]
     },
     "execution_count": 35,
     "metadata": {},
     "output_type": "execute_result"
    }
   ],
   "source": [
    "azov_23 = pd.read_csv(\"azov_23.csv\", header=None, decimal=\",\")\n",
    "azov_23.iloc[:, 0]"
   ]
  },
  {
   "cell_type": "code",
   "execution_count": 64,
   "id": "50d4b09f",
   "metadata": {},
   "outputs": [
    {
     "data": {
      "text/plain": [
       "<AxesSubplot: >"
      ]
     },
     "execution_count": 64,
     "metadata": {},
     "output_type": "execute_result"
    },
    {
     "data": {
      "image/png": "[encoded data removed]",
      "text/plain": [
       "<Figure size 640x480 with 1 Axes>"
      ]
     },
     "metadata": {},
     "output_type": "display_data"
    }
   ],
   "source": [
    "azov_23.iloc[:, 0].hist()"
   ]
  },
  {
   "cell_type": "code",
   "execution_count": 61,
   "id": "732349ad",
   "metadata": {},
   "outputs": [
    {
     "data": {
      "text/plain": [
       "array([2, 1, 2, 1, 2, 0, 0, 1, 2, 2, 1, 2, 0, 0, 1, 2, 2, 1, 2, 0, 0, 1,\n",
       "       2, 2, 1, 2, 0, 0, 1, 2, 2, 1, 2, 0, 0, 1, 2, 2, 1, 2, 0, 0, 1, 2,\n",
       "       2, 1, 2, 0, 0, 1, 2, 2, 1, 2, 0, 0, 1, 2, 2, 1, 2, 0, 0, 1, 2, 2,\n",
       "       1, 2, 0, 0, 1, 2, 2, 1, 2, 0, 0, 1, 2, 2, 1, 2, 0, 0, 1, 2, 2, 1,\n",
       "       2, 0, 0, 1, 2, 2, 1, 2, 0, 0, 1, 2, 2, 1, 2, 0, 0, 1, 2],\n",
       "      dtype=int32)"
      ]
     },
     "execution_count": 61,
     "metadata": {},
     "output_type": "execute_result"
    }
   ],
   "source": [
    "KMeans(n_clusters=3).fit(azov_23.iloc[:, [0]]).labels_"
   ]
  },
  {
   "cell_type": "code",
   "execution_count": 62,
   "id": "97850ff8",
   "metadata": {},
   "outputs": [
    {
     "data": {
      "text/plain": [
       "Counter({0: 46, 1: 31, 2: 30})"
      ]
     },
     "execution_count": 62,
     "metadata": {},
     "output_type": "execute_result"
    }
   ],
   "source": [
    "Counter(KMeans(n_clusters=3).fit(azov_23.iloc[:, [0]]).labels_)"
   ]
  },
  {
   "cell_type": "code",
   "execution_count": 63,
   "id": "a2157f02",
   "metadata": {},
   "outputs": [
    {
     "data": {
      "text/html": [
       "<div>\n",
       "<style scoped>\n",
       "    .dataframe tbody tr th:only-of-type {\n",
       "        vertical-align: middle;\n",
       "    }\n",
       "\n",
       "    .dataframe tbody tr th {\n",
       "        vertical-align: top;\n",
       "    }\n",
       "\n",
       "    .dataframe thead th {\n",
       "        text-align: right;\n",
       "    }\n",
       "</style>\n",
       "<table border=\"1\" class=\"dataframe\">\n",
       "  <thead>\n",
       "    <tr style=\"text-align: right;\">\n",
       "      <th></th>\n",
       "      <th>mun_obr</th>\n",
       "      <th>ppf</th>\n",
       "      <th>n_flats</th>\n",
       "      <th>sheet_name</th>\n",
       "    </tr>\n",
       "  </thead>\n",
       "  <tbody>\n",
       "    <tr>\n",
       "      <th>17</th>\n",
       "      <td>Зюзино</td>\n",
       "      <td>2.75772</td>\n",
       "      <td>-1</td>\n",
       "      <td>Зюзино</td>\n",
       "    </tr>\n",
       "    <tr>\n",
       "      <th>19</th>\n",
       "      <td>Зюзино</td>\n",
       "      <td>1.924238</td>\n",
       "      <td>1</td>\n",
       "      <td>Зюзино</td>\n",
       "    </tr>\n",
       "    <tr>\n",
       "      <th>20</th>\n",
       "      <td>Зюзино</td>\n",
       "      <td>2.735714</td>\n",
       "      <td>2</td>\n",
       "      <td>Зюзино</td>\n",
       "    </tr>\n",
       "    <tr>\n",
       "      <th>21</th>\n",
       "      <td>Зюзино</td>\n",
       "      <td>3.670233</td>\n",
       "      <td>3</td>\n",
       "      <td>Зюзино</td>\n",
       "    </tr>\n",
       "    <tr>\n",
       "      <th>22</th>\n",
       "      <td>Зюзино</td>\n",
       "      <td>4.276904</td>\n",
       "      <td>4</td>\n",
       "      <td>Зюзино</td>\n",
       "    </tr>\n",
       "  </tbody>\n",
       "</table>\n",
       "</div>"
      ],
      "text/plain": [
       "   mun_obr       ppf  n_flats sheet_name\n",
       "17  Зюзино   2.75772       -1     Зюзино\n",
       "19  Зюзино  1.924238        1     Зюзино\n",
       "20  Зюзино  2.735714        2     Зюзино\n",
       "21  Зюзино  3.670233        3     Зюзино\n",
       "22  Зюзино  4.276904        4     Зюзино"
      ]
     },
     "execution_count": 63,
     "metadata": {},
     "output_type": "execute_result"
    }
   ],
   "source": [
    "ppf_by_mo.loc[ppf_by_mo[\"mun_obr\"] == \"Зюзино\"]"
   ]
  },
  {
   "cell_type": "code",
   "execution_count": 68,
   "id": "87db2d2a",
   "metadata": {},
   "outputs": [
    {
     "data": {
      "text/plain": [
       "383.486162"
      ]
     },
     "execution_count": 68,
     "metadata": {},
     "output_type": "execute_result"
    }
   ],
   "source": [
    "(3.670233 * 46 + 2.735714 * 30 + 4.276904 * 31)"
   ]
  },
  {
   "cell_type": "code",
   "execution_count": 69,
   "id": "71f08c51",
   "metadata": {},
   "outputs": [
    {
     "data": {
      "text/plain": [
       "3.583982822429906"
      ]
     },
     "execution_count": 69,
     "metadata": {},
     "output_type": "execute_result"
    }
   ],
   "source": [
    "(3.670233 * 46 + 2.735714 * 30 + 4.276904 * 31) / 107"
   ]
  },
  {
   "cell_type": "code",
   "execution_count": 67,
   "id": "17ad8e4a",
   "metadata": {},
   "outputs": [
    {
     "data": {
      "text/html": [
       "<div>\n",
       "<style scoped>\n",
       "    .dataframe tbody tr th:only-of-type {\n",
       "        vertical-align: middle;\n",
       "    }\n",
       "\n",
       "    .dataframe tbody tr th {\n",
       "        vertical-align: top;\n",
       "    }\n",
       "\n",
       "    .dataframe thead th {\n",
       "        text-align: right;\n",
       "    }\n",
       "</style>\n",
       "<table border=\"1\" class=\"dataframe\">\n",
       "  <thead>\n",
       "    <tr style=\"text-align: right;\">\n",
       "      <th></th>\n",
       "      <th>id</th>\n",
       "      <th>region_id</th>\n",
       "      <th>area_id</th>\n",
       "      <th>city_id</th>\n",
       "      <th>street_id</th>\n",
       "      <th>shortname_region</th>\n",
       "      <th>formalname_region</th>\n",
       "      <th>shortname_area</th>\n",
       "      <th>formalname_area</th>\n",
       "      <th>shortname_city</th>\n",
       "      <th>formalname_city</th>\n",
       "      <th>shortname_street</th>\n",
       "      <th>formalname_street</th>\n",
       "      <th>house_number</th>\n",
       "      <th>building</th>\n",
       "      <th>block</th>\n",
       "      <th>letter</th>\n",
       "      <th>address</th>\n",
       "      <th>houseguid</th>\n",
       "      <th>management_organization_id</th>\n",
       "      <th>built_year</th>\n",
       "      <th>exploitation_start_year</th>\n",
       "      <th>project_type</th>\n",
       "      <th>house_type</th>\n",
       "      <th>is_alarm</th>\n",
       "      <th>method_of_forming_overhaul_fund</th>\n",
       "      <th>floor_count_max</th>\n",
       "      <th>floor_count_min</th>\n",
       "      <th>entrance_count</th>\n",
       "      <th>elevators_count</th>\n",
       "      <th>energy_efficiency</th>\n",
       "      <th>quarters_count</th>\n",
       "      <th>living_quarters_count</th>\n",
       "      <th>unliving_quarters_count</th>\n",
       "      <th>area_total</th>\n",
       "      <th>area_residential</th>\n",
       "      <th>area_non_residential</th>\n",
       "      <th>area_common_property</th>\n",
       "      <th>area_land</th>\n",
       "      <th>parking_square</th>\n",
       "      <th>playground</th>\n",
       "      <th>sportsground</th>\n",
       "      <th>other_beautification</th>\n",
       "      <th>foundation_type</th>\n",
       "      <th>floor_type</th>\n",
       "      <th>wall_material</th>\n",
       "      <th>basement_area</th>\n",
       "      <th>chute_type</th>\n",
       "      <th>chute_count</th>\n",
       "      <th>electrical_type</th>\n",
       "      <th>electrical_entries_count</th>\n",
       "      <th>heating_type</th>\n",
       "      <th>hot_water_type</th>\n",
       "      <th>cold_water_type</th>\n",
       "      <th>sewerage_type</th>\n",
       "      <th>sewerage_cesspools_volume</th>\n",
       "      <th>gas_type</th>\n",
       "      <th>ventilation_type</th>\n",
       "      <th>firefighting_type</th>\n",
       "      <th>drainage_type</th>\n",
       "    </tr>\n",
       "  </thead>\n",
       "  <tbody>\n",
       "    <tr>\n",
       "      <th>530</th>\n",
       "      <td>8038815</td>\n",
       "      <td>0c5b2444-70a0-4932-980c-b4dc0d3f02b5</td>\n",
       "      <td>NaN</td>\n",
       "      <td>NaN</td>\n",
       "      <td>d1df4d35-7aff-49d8-8d66-bd20f3ddb7b5</td>\n",
       "      <td>г</td>\n",
       "      <td>Москва</td>\n",
       "      <td>NaN</td>\n",
       "      <td>NaN</td>\n",
       "      <td>NaN</td>\n",
       "      <td>NaN</td>\n",
       "      <td>ул</td>\n",
       "      <td>Азовская</td>\n",
       "      <td>23</td>\n",
       "      <td>NaN</td>\n",
       "      <td>NaN</td>\n",
       "      <td>NaN</td>\n",
       "      <td>г. Москва, ул. Азовская, д. 23</td>\n",
       "      <td>b11b1a36-887c-4609-b2e2-40591f8f1427</td>\n",
       "      <td>7553366.0</td>\n",
       "      <td>1968.0</td>\n",
       "      <td>1968.0</td>\n",
       "      <td>индивидуальный проект</td>\n",
       "      <td>Многоквартирный дом</td>\n",
       "      <td>Нет</td>\n",
       "      <td>На счете регионального оператора</td>\n",
       "      <td>16.0</td>\n",
       "      <td>16.0</td>\n",
       "      <td>1.0</td>\n",
       "      <td>2.0</td>\n",
       "      <td>C</td>\n",
       "      <td>110</td>\n",
       "      <td>107.0</td>\n",
       "      <td>3.0</td>\n",
       "      <td>6177.5</td>\n",
       "      <td>5887.5</td>\n",
       "      <td>290.0</td>\n",
       "      <td>949.0</td>\n",
       "      <td>0.0</td>\n",
       "      <td>0.0</td>\n",
       "      <td>500</td>\n",
       "      <td>500</td>\n",
       "      <td>Гостевая парковка</td>\n",
       "      <td>Бетонные столбы</td>\n",
       "      <td>Железобетонные</td>\n",
       "      <td>Железобетон</td>\n",
       "      <td>527.9</td>\n",
       "      <td>На лестничной клетке</td>\n",
       "      <td>1.0</td>\n",
       "      <td>Центральное</td>\n",
       "      <td>1.0</td>\n",
       "      <td>Центральное</td>\n",
       "      <td>Открытая с отбором сетевой воды на горячее вод...</td>\n",
       "      <td>Центральное</td>\n",
       "      <td>Центральное</td>\n",
       "      <td>0.0</td>\n",
       "      <td>Центральное</td>\n",
       "      <td>Приточно-вытяжная вентиляция</td>\n",
       "      <td>Пожарные гидранты</td>\n",
       "      <td>Внутренние водостоки</td>\n",
       "    </tr>\n",
       "  </tbody>\n",
       "</table>\n",
       "</div>"
      ],
      "text/plain": [
       "          id                             region_id area_id city_id  \\\n",
       "530  8038815  0c5b2444-70a0-4932-980c-b4dc0d3f02b5     NaN     NaN   \n",
       "\n",
       "                                street_id shortname_region formalname_region  \\\n",
       "530  d1df4d35-7aff-49d8-8d66-bd20f3ddb7b5                г            Москва   \n",
       "\n",
       "    shortname_area formalname_area shortname_city formalname_city  \\\n",
       "530            NaN             NaN            NaN             NaN   \n",
       "\n",
       "    shortname_street formalname_street house_number building block letter  \\\n",
       "530               ул          Азовская           23      NaN   NaN    NaN   \n",
       "\n",
       "                            address                             houseguid  \\\n",
       "530  г. Москва, ул. Азовская, д. 23  b11b1a36-887c-4609-b2e2-40591f8f1427   \n",
       "\n",
       "     management_organization_id  built_year  exploitation_start_year  \\\n",
       "530                   7553366.0      1968.0                   1968.0   \n",
       "\n",
       "              project_type           house_type is_alarm  \\\n",
       "530  индивидуальный проект  Многоквартирный дом      Нет   \n",
       "\n",
       "      method_of_forming_overhaul_fund  floor_count_max  floor_count_min  \\\n",
       "530  На счете регионального оператора             16.0             16.0   \n",
       "\n",
       "     entrance_count  elevators_count energy_efficiency  quarters_count  \\\n",
       "530             1.0              2.0                 C             110   \n",
       "\n",
       "     living_quarters_count  unliving_quarters_count  area_total  \\\n",
       "530                  107.0                      3.0      6177.5   \n",
       "\n",
       "     area_residential  area_non_residential  area_common_property  area_land  \\\n",
       "530            5887.5                 290.0                 949.0        0.0   \n",
       "\n",
       "     parking_square  playground  sportsground other_beautification  \\\n",
       "530             0.0         500           500    Гостевая парковка   \n",
       "\n",
       "     foundation_type      floor_type wall_material  basement_area  \\\n",
       "530  Бетонные столбы  Железобетонные   Железобетон          527.9   \n",
       "\n",
       "               chute_type  chute_count electrical_type  \\\n",
       "530  На лестничной клетке          1.0     Центральное   \n",
       "\n",
       "     electrical_entries_count heating_type  \\\n",
       "530                       1.0  Центральное   \n",
       "\n",
       "                                        hot_water_type cold_water_type  \\\n",
       "530  Открытая с отбором сетевой воды на горячее вод...     Центральное   \n",
       "\n",
       "    sewerage_type  sewerage_cesspools_volume     gas_type  \\\n",
       "530   Центральное                        0.0  Центральное   \n",
       "\n",
       "                 ventilation_type  firefighting_type         drainage_type  \n",
       "530  Приточно-вытяжная вентиляция  Пожарные гидранты  Внутренние водостоки  "
      ]
     },
     "execution_count": 67,
     "metadata": {},
     "output_type": "execute_result"
    }
   ],
   "source": [
    "houses.loc[houses[\"id\"] == 8038815]"
   ]
  },
  {
   "cell_type": "code",
   "execution_count": 71,
   "id": "0f8cd575",
   "metadata": {},
   "outputs": [
    {
     "data": {
      "text/plain": [
       "11.575435501633558"
      ]
     },
     "execution_count": 71,
     "metadata": {},
     "output_type": "execute_result"
    }
   ],
   "source": [
    "((3.670233 * 46 + 2.735714 * 30 + 4.276904 * 31) - 342) / 3.583982822429906"
   ]
  },
  {
   "cell_type": "code",
   "execution_count": 36,
   "id": "f0b52fdc",
   "metadata": {},
   "outputs": [
    {
     "data": {
      "text/plain": [
       "Counter({0: 46, 1: 31, 2: 30})"
      ]
     },
     "execution_count": 36,
     "metadata": {},
     "output_type": "execute_result"
    }
   ],
   "source": [
    "mc = MeanShift()\n",
    "mc.fit(azov_23.iloc[:, [0]])\n",
    "Counter(mc.labels_)"
   ]
  },
  {
   "cell_type": "code",
   "execution_count": null,
   "id": "8a1b6cc8",
   "metadata": {},
   "outputs": [],
   "source": []
  }
 ],
 "metadata": {
  "kernelspec": {
   "display_name": "Python 3 (ipykernel)",
   "language": "python",
   "name": "python3"
  },
  "language_info": {
   "codemirror_mode": {
    "name": "ipython",
    "version": 3
   },
   "file_extension": ".py",
   "mimetype": "text/x-python",
   "name": "python",
   "nbconvert_exporter": "python",
   "pygments_lexer": "ipython3",
   "version": "3.10.12"
  }
 },
 "nbformat": 4,
 "nbformat_minor": 5
}
